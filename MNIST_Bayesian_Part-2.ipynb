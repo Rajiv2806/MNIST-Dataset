{
 "metadata": {
  "name": "",
  "signature": "sha256:3ae90bb1cf620adaf4b1a1b258f709ddcc85f06424f68c1cc60392f2c1f5ab96"
 },
 "nbformat": 3,
 "nbformat_minor": 0,
 "worksheets": [
  {
   "cells": [
    {
     "cell_type": "heading",
     "level": 1,
     "metadata": {},
     "source": [
      "MNIST - Bayesian Part-2"
     ]
    },
    {
     "cell_type": "markdown",
     "metadata": {},
     "source": [
      "This Py Document is the continuation of the R file of the MNIST Dataset, in which we classify the handwritten digits of 28X28 Pixel into 0-9 clases.\n",
      "\n",
      "Part-1 R code file can be found on Git repository at: https://github.com/Rajiv2806/MNIST-Dataset/blob/master/MNIST_Bayesian_Part-1.Rmd\n",
      "\n",
      "The total of 784 features were reduced into 9 features after performing the dimensionality reduction techniques PCA and LDA on this dataset.\n",
      "\n",
      "In this Document we are performing the Bayesian Gaussian Mixture Model on the PCA and LDA reduced dataset on Training and Test data."
     ]
    },
    {
     "cell_type": "markdown",
     "metadata": {},
     "source": [
      "Loading the input files which were obtained as output in R"
     ]
    },
    {
     "cell_type": "code",
     "collapsed": false,
     "input": [
      "import pandas as pd\n",
      "D1_Train = pd.read_csv(\"D:/ISB/34-DataMining-2/Assignment/MNIST/D1_PCA_train.csv\")\n",
      "D1_Test = pd.read_csv(\"D:/ISB/34-DataMining-2/Assignment/MNIST/D1_PCA_test.csv\")\n",
      "D2_Train = pd.read_csv(\"D:/ISB/34-DataMining-2/Assignment/MNIST/D2_LDA_train.csv\")\n",
      "D2_Test = pd.read_csv(\"D:/ISB/34-DataMining-2/Assignment/MNIST/D2_LDA_test.csv\")"
     ],
     "language": "python",
     "metadata": {},
     "outputs": [],
     "prompt_number": 4
    },
    {
     "cell_type": "markdown",
     "metadata": {},
     "source": [
      "Removing the First column which is an index column in the csv files"
     ]
    },
    {
     "cell_type": "code",
     "collapsed": false,
     "input": [
      "D1_Train = D1_Train[[1,2,3,4,5,6,7,8,9,10]]\n",
      "D1_Test = D1_Test[[1,2,3,4,5,6,7,8,9,10]]\n",
      "D2_Train = D2_Train[[1,2,3,4,5,6,7,8,9,10]]\n",
      "D2_Test = D2_Test[[1,2,3,4,5,6,7,8,9,10]]"
     ],
     "language": "python",
     "metadata": {},
     "outputs": [],
     "prompt_number": 7
    },
    {
     "cell_type": "markdown",
     "metadata": {},
     "source": [
      "Making the Explanatory variables(X) and Predictor variables(Y)of PCA and LDA data of traing and testing sets "
     ]
    },
    {
     "cell_type": "code",
     "collapsed": false,
     "input": [
      "X_D1_Train = D1_Train[[0,1,2,3,4,5,6,7,8]]\n",
      "Y_D1_Train = D1_Train[[9]]\n",
      "X_D1_Test = D1_Test[[0,1,2,3,4,5,6,7,8]]\n",
      "Y_D1_Test = D1_Test[[9]]\n",
      "X_D2_Train = D2_Train[[0,1,2,3,4,5,6,7,8]]\n",
      "Y_D2_Train = D2_Train[[9]]\n",
      "X_D2_Test = D2_Test[[0,1,2,3,4,5,6,7,8]]\n",
      "Y_D2_Test = D2_Test[[9]]"
     ],
     "language": "python",
     "metadata": {},
     "outputs": [],
     "prompt_number": 8
    },
    {
     "cell_type": "heading",
     "level": 1,
     "metadata": {},
     "source": [
      "Fitting an Bayesian Gaussian Model on PCA Dataset"
     ]
    },
    {
     "cell_type": "code",
     "collapsed": false,
     "input": [
      "from sklearn.mixture import BayesianGaussianMixture\n",
      "import numpy as np"
     ],
     "language": "python",
     "metadata": {},
     "outputs": [],
     "prompt_number": 9
    },
    {
     "cell_type": "markdown",
     "metadata": {},
     "source": [
      "Building a Bayesian Gaussina Classifier model on Full and Diagonal Covariance Matrices "
     ]
    },
    {
     "cell_type": "code",
     "collapsed": false,
     "input": [
      "full_model = BayesianGaussianMixture(n_components=10,covariance_type=\"full\", max_iter=20, random_state=0)\n",
      "diag_model = BayesianGaussianMixture(n_components=10,covariance_type=\"diag\", max_iter=20, random_state=0)"
     ],
     "language": "python",
     "metadata": {},
     "outputs": [],
     "prompt_number": 12
    },
    {
     "cell_type": "code",
     "collapsed": false,
     "input": [
      "#Fitting BGM on Full Covariance Matrix\n",
      "full_model.means_init = np.array([X_D1_Train[Y_D1_Train == i].mean(axis=0) for i in range(10)])\n",
      "full_model.fit(X_D1_Train)\n",
      "D1_Full_Train_Pred = full_model.predict(X_D1_Train)\n",
      "D1_Full_Test_Pred = full_model.predict(X_D1_Test)\n",
      "\n",
      "#Fitting a BGM on Diagonal Covariance Matrix.\n",
      "diag_model.means_init = np.array([X_D1_Train[Y_D1_Train == i].mean(axis=0) for i in range(10)])\n",
      "diag_model.fit(X_D1_Train)\n",
      "D1_Diag_Train_Pred = diag_model.predict(X_D1_Train)\n",
      "D1_Diag_Test_Pred = diag_model.predict(X_D1_Test)"
     ],
     "language": "python",
     "metadata": {},
     "outputs": [
      {
       "output_type": "stream",
       "stream": "stderr",
       "text": [
        "C:\\Users\\user\\AppData\\Local\\Enthought\\Canopy\\User\\lib\\site-packages\\sklearn\\mixture\\base.py:237: ConvergenceWarning: Initialization 1 did not converged. Try different init parameters, or increase max_iter, tol or check for degenerate data.\n",
        "  % (init + 1), ConvergenceWarning)\n"
       ]
      }
     ],
     "prompt_number": 13
    },
    {
     "cell_type": "code",
     "collapsed": false,
     "input": [
      "# Accuracy of Bayesian Gaussian Model on Full Covariance Matrix on Training and Test datasets\n",
      "Acc_D1_full_Train = np.mean(D1_Full_Train_Pred.ravel() == array(Y_D1_Train.MNIST).ravel())*100\n",
      "Acc_D1_full_Test = np.mean(D1_Full_Test_Pred.ravel() == array(Y_D1_Test.MNIST).ravel())*100\n",
      "\n",
      "# Accuracy of Bayesian Gaussian Model on Diagonal Covariance Matrix on Training and Test datasets\n",
      "Acc_D1_Diag_Train = np.mean(D1_Diag_Train_Pred.ravel() == array(Y_D1_Train.MNIST).ravel())*100\n",
      "Acc_D1_Diag_Test = np.mean(D1_Diag_Test_Pred.ravel() == array(Y_D1_Test.MNIST).ravel())*100"
     ],
     "language": "python",
     "metadata": {},
     "outputs": [],
     "prompt_number": 14
    },
    {
     "cell_type": "code",
     "collapsed": false,
     "input": [
      "print \"Accuracy of PCA Full Diagonal Covariance Matrix for Training Dataset is:\" ,Acc_D1_full_Train\n",
      "print \"Accuracy of PCA Full Diagonal Covariance Matrix for Test Dataset is:\" ,Acc_D1_full_Test\n",
      "print \"Accuracy of PCA Diagonal Diagonal Covariance Matrix for Training Dataset is:\" ,Acc_D1_Diag_Train\n",
      "print \"Accuracy of PCA Diagonal Diagonal Covariance Matrix for Test Dataset is:\" ,Acc_D1_Diag_Test"
     ],
     "language": "python",
     "metadata": {},
     "outputs": [
      {
       "output_type": "stream",
       "stream": "stdout",
       "text": [
        "Accuracy of PCA Full Diagonal Covariance Matrix for Training Dataset is: 15.6386866404\n",
        "Accuracy of PCA Full Diagonal Covariance Matrix for Test Dataset is: 15.0747319174\n",
        "Accuracy of PCA Diagonal Diagonal Covariance Matrix for Training Dataset is: 14.2968728206\n",
        "Accuracy of PCA Diagonal Diagonal Covariance Matrix for Test Dataset is: 15.2569039043\n"
       ]
      }
     ],
     "prompt_number": 15
    },
    {
     "cell_type": "heading",
     "level": 1,
     "metadata": {},
     "source": [
      "Fitting an Bayesian Gaussian Model on LDA Dataset"
     ]
    },
    {
     "cell_type": "code",
     "collapsed": false,
     "input": [
      "#Fitting BGM on Full Covariance Matrix\n",
      "full_model.means_init = np.array([X_D2_Train[Y_D2_Train == i].mean(axis=0) for i in range(10)])\n",
      "full_model.fit(X_D2_Train)\n",
      "D2_Full_Train_Pred = full_model.predict(X_D2_Train)\n",
      "D2_Full_Test_Pred = full_model.predict(X_D2_Test)\n",
      "\n",
      "#Fitting BGM on Diagonal Covariance Matrix\n",
      "diag_model.means_init = np.array([X_D2_Train[Y_D2_Train == i].mean(axis=0) for i in range(10)])\n",
      "diag_model.fit(X_D2_Train)\n",
      "D2_Diag_Train_Pred = diag_model.predict(X_D2_Train)\n",
      "D2_Diag_Test_Pred = diag_model.predict(X_D2_Test)"
     ],
     "language": "python",
     "metadata": {},
     "outputs": [],
     "prompt_number": 16
    },
    {
     "cell_type": "code",
     "collapsed": false,
     "input": [
      "# Accuracy of Bayesian Gaussian Model on Full Covariance Matrix on Training and Test datasets\n",
      "Acc_D2_full_Train = np.mean(D2_Full_Train_Pred.ravel() == array(Y_D2_Train.MNIST).ravel())*100\n",
      "Acc_D2_full_Test = np.mean(D2_Full_Test_Pred.ravel() == array(Y_D2_Test.MNIST).ravel())*100\n",
      "\n",
      "# Accuracy of Bayesian Gaussian Model on Diagonal Covariance Matrix on Training and Test datasets\n",
      "Acc_D2_Diag_Train = np.mean(D2_Diag_Train_Pred.ravel() == array(Y_D2_Train.MNIST).ravel())*100\n",
      "Acc_D2_Diag_Test = np.mean(D2_Diag_Test_Pred.ravel() == array(Y_D2_Test.MNIST).ravel())*100"
     ],
     "language": "python",
     "metadata": {},
     "outputs": [],
     "prompt_number": 17
    },
    {
     "cell_type": "code",
     "collapsed": false,
     "input": [
      "print \"Accuracy of LDA Full Diagonal Covariance Matrix for Training Dataset is:\" ,Acc_D2_full_Train\n",
      "print \"Accuracy of LDA Full Diagonal Covariance Matrix for Test Dataset is:\" ,Acc_D2_full_Test\n",
      "print \"Accuracy of LDA Diagonal Diagonal Covariance Matrix for Training Dataset is:\" ,Acc_D2_Diag_Train\n",
      "print \"Accuracy of LDA Diagonal Diagonal Covariance Matrix for Test Dataset is:\" ,Acc_D2_Diag_Test"
     ],
     "language": "python",
     "metadata": {},
     "outputs": [
      {
       "output_type": "stream",
       "stream": "stdout",
       "text": [
        "Accuracy of LDA Full Diagonal Covariance Matrix for Training Dataset is: 10.8070410355\n",
        "Accuracy of LDA Full Diagonal Covariance Matrix for Test Dataset is: 10.8070410355\n",
        "Accuracy of LDA Diagonal Diagonal Covariance Matrix for Training Dataset is: 9.71350461684\n",
        "Accuracy of LDA Diagonal Diagonal Covariance Matrix for Test Dataset is: 9.71350461684\n"
       ]
      }
     ],
     "prompt_number": 18
    },
    {
     "cell_type": "markdown",
     "metadata": {},
     "source": [
      "From the Accuracy of above models we can see that Bayesian Gaussian models with single gaussian per class are only able to predict from 9-15% which is of very low prediction power.\n",
      "\n",
      "The best model is the PCA Reduced dataset with Full Covariance Matrix with an Accuracy of 15.63% and 15.07% for the training and the test datasets."
     ]
    }
   ],
   "metadata": {}
  }
 ]
}